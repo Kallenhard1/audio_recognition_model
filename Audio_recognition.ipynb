{
  "nbformat": 4,
  "nbformat_minor": 0,
  "metadata": {
    "colab": {
      "provenance": []
    },
    "kernelspec": {
      "name": "python3",
      "display_name": "Python 3"
    },
    "language_info": {
      "name": "python"
    },
    "widgets": {
      "application/vnd.jupyter.widget-state+json": {
        "423f425e3dff4db3831f892245a8e702": {
          "model_module": "@jupyter-widgets/controls",
          "model_name": "FileUploadModel",
          "model_module_version": "1.5.0",
          "state": {
            "_counter": 1,
            "_dom_classes": [],
            "_model_module": "@jupyter-widgets/controls",
            "_model_module_version": "1.5.0",
            "_model_name": "FileUploadModel",
            "_view_count": null,
            "_view_module": "@jupyter-widgets/controls",
            "_view_module_version": "1.5.0",
            "_view_name": "FileUploadView",
            "accept": "",
            "button_style": "",
            "data": [
              null
            ],
            "description": "Upload",
            "description_tooltip": null,
            "disabled": false,
            "error": "",
            "icon": "upload",
            "layout": "IPY_MODEL_5ccd0648acb743049f9141ed965cf642",
            "metadata": [
              {
                "name": "fagundes.wav",
                "type": "audio/wav",
                "size": 1789310,
                "lastModified": 1692979308677
              }
            ],
            "multiple": false,
            "style": "IPY_MODEL_419a46cfb7b74855adbfa6fefb5d0b1d"
          }
        },
        "5ccd0648acb743049f9141ed965cf642": {
          "model_module": "@jupyter-widgets/base",
          "model_name": "LayoutModel",
          "model_module_version": "1.2.0",
          "state": {
            "_model_module": "@jupyter-widgets/base",
            "_model_module_version": "1.2.0",
            "_model_name": "LayoutModel",
            "_view_count": null,
            "_view_module": "@jupyter-widgets/base",
            "_view_module_version": "1.2.0",
            "_view_name": "LayoutView",
            "align_content": null,
            "align_items": null,
            "align_self": null,
            "border": null,
            "bottom": null,
            "display": null,
            "flex": null,
            "flex_flow": null,
            "grid_area": null,
            "grid_auto_columns": null,
            "grid_auto_flow": null,
            "grid_auto_rows": null,
            "grid_column": null,
            "grid_gap": null,
            "grid_row": null,
            "grid_template_areas": null,
            "grid_template_columns": null,
            "grid_template_rows": null,
            "height": null,
            "justify_content": null,
            "justify_items": null,
            "left": null,
            "margin": null,
            "max_height": null,
            "max_width": null,
            "min_height": null,
            "min_width": null,
            "object_fit": null,
            "object_position": null,
            "order": null,
            "overflow": null,
            "overflow_x": null,
            "overflow_y": null,
            "padding": null,
            "right": null,
            "top": null,
            "visibility": null,
            "width": null
          }
        },
        "419a46cfb7b74855adbfa6fefb5d0b1d": {
          "model_module": "@jupyter-widgets/controls",
          "model_name": "ButtonStyleModel",
          "model_module_version": "1.5.0",
          "state": {
            "_model_module": "@jupyter-widgets/controls",
            "_model_module_version": "1.5.0",
            "_model_name": "ButtonStyleModel",
            "_view_count": null,
            "_view_module": "@jupyter-widgets/base",
            "_view_module_version": "1.2.0",
            "_view_name": "StyleView",
            "button_color": null,
            "font_weight": ""
          }
        }
      }
    }
  },
  "cells": [
    {
      "cell_type": "code",
      "execution_count": null,
      "metadata": {
        "id": "GA-N_gu3Tdlq"
      },
      "outputs": [],
      "source": [
        "%pip install vosk\n",
        "%pip install pydub\n",
        "%pip install transformers\n",
        "%pip install ipywidgets"
      ]
    },
    {
      "cell_type": "code",
      "source": [
        "import json\n",
        "from vosk import Model, KaldiRecognizer\n",
        "from pydub import AudioSegment\n",
        "\n",
        "FRAME_RATE = 16000\n",
        "CHANNELS = 1\n",
        "\n",
        "def voice_recognition(filename):\n",
        "  model = Model(model_name=\"vosk-model-pt-fb-v0.1.1-20220516_2113\")\n",
        "  rec = KaldiRecognizer(model, FRAME_RATE)\n",
        "  rec.SetWords(True)\n",
        "\n",
        "  wav = AudioSegment.from_wav(filename)\n",
        "  wav = wav.set_channels(CHANNELS)\n",
        "  wav = wav.set_frame_rate(FRAME_RATE)\n",
        "\n",
        "  step = 45000\n",
        "  transcript = \"\"\n",
        "  for i in range(0, len(wav), step):\n",
        "    print(f\"Progress: {i/len(wav)}\")\n",
        "    segment = wav[i:(i+step)]\n",
        "\n",
        "    rec.AcceptWaveform(segment.raw_data)\n",
        "    result = rec.Result()\n",
        "\n",
        "    text = json.loads(result)[\"text\"]\n",
        "    transcript += text\n",
        "\n",
        "  return transcript"
      ],
      "metadata": {
        "id": "GNq0PxiOecL4"
      },
      "execution_count": null,
      "outputs": []
    },
    {
      "cell_type": "code",
      "source": [
        "import ipywidgets as widgets\n",
        "\n",
        "uploader = widgets.FileUpload()\n",
        "display(uploader)"
      ],
      "metadata": {
        "colab": {
          "base_uri": "https://localhost:8080/",
          "height": 49,
          "referenced_widgets": [
            "423f425e3dff4db3831f892245a8e702",
            "5ccd0648acb743049f9141ed965cf642",
            "419a46cfb7b74855adbfa6fefb5d0b1d"
          ]
        },
        "id": "Cu3jLkVzhZd1",
        "outputId": "902904f4-f615-4a65-9a35-a7a4e1071ace"
      },
      "execution_count": null,
      "outputs": [
        {
          "output_type": "display_data",
          "data": {
            "text/plain": [
              "FileUpload(value={}, description='Upload')"
            ],
            "application/vnd.jupyter.widget-view+json": {
              "version_major": 2,
              "version_minor": 0,
              "model_id": "423f425e3dff4db3831f892245a8e702"
            }
          },
          "metadata": {}
        }
      ]
    },
    {
      "cell_type": "code",
      "source": [
        "from pydub import AudioSegment\n",
        "import tempfile\n",
        "import os\n",
        "\n",
        "def process_uploaded_file(change):\n",
        "    if uploader.value:\n",
        "        up_file = uploader.value[list(uploader.value.keys())[0]]\n",
        "        with tempfile.NamedTemporaryFile(delete=False) as temp_audio:\n",
        "            temp_audio.write(up_file[\"content\"])\n",
        "            temp_audio_path = temp_audio.name\n",
        "\n",
        "        transcript = voice_recognition(temp_audio_path)\n",
        "        print(\"Transcript:\", transcript)\n",
        "\n",
        "        # Clean up the temporary audio file\n",
        "        os.remove(temp_audio_path)\n",
        "\n",
        "        return transcript\n",
        "\n",
        "uploader.observe(process_uploaded_file, names='value')\n",
        "\n",
        "process_uploaded_file(uploader.value)"
      ],
      "metadata": {
        "colab": {
          "base_uri": "https://localhost:8080/",
          "height": 107
        },
        "id": "o1bNWIj44Ik2",
        "outputId": "890bd795-8255-4a65-d9fe-b1db4eeb4412"
      },
      "execution_count": null,
      "outputs": [
        {
          "output_type": "stream",
          "name": "stdout",
          "text": [
            "Progress: 0.0\n",
            "Transcript: o atacante mario já cancelei a aula de amanhã e aí agora se segue seu horário que você você é vinte e oito se não fizer duas aulas de moto né aí conclui moto dia trinta e um se faz uma aula de carro e dia quatro de setembro seu faz a última aula de carro\n"
          ]
        },
        {
          "output_type": "execute_result",
          "data": {
            "text/plain": [
              "'o atacante mario já cancelei a aula de amanhã e aí agora se segue seu horário que você você é vinte e oito se não fizer duas aulas de moto né aí conclui moto dia trinta e um se faz uma aula de carro e dia quatro de setembro seu faz a última aula de carro'"
            ],
            "application/vnd.google.colaboratory.intrinsic+json": {
              "type": "string"
            }
          },
          "metadata": {},
          "execution_count": 14
        }
      ]
    },
    {
      "cell_type": "code",
      "source": [
        "# Summering the audio"
      ],
      "metadata": {
        "id": "N7CWJ7yq61L_"
      },
      "execution_count": null,
      "outputs": []
    },
    {
      "cell_type": "code",
      "source": [
        "from transformers import pipeline\n",
        "summarizer = pipeline(\"summarization\")\n",
        "\n",
        "transcript = process_uploaded_file(uploader.value)\n",
        "\n",
        "split_tokens = transcript.split(\" \")\n",
        "docs = []\n",
        "\n",
        "for i in range(0, len(split_tokens), 850):\n",
        "  selection = \" \".join(split_tokens[i:(i+850)])\n",
        "  docs.append(selection)\n",
        "\n",
        "summaries = summarizer(docs)\n",
        "\n",
        "summary = \"\\n\\n\".join([d[\"summary_text\"] for d in summaries])"
      ],
      "metadata": {
        "colab": {
          "base_uri": "https://localhost:8080/"
        },
        "id": "3WqyIXjLk2Bj",
        "outputId": "ac922914-55e1-4b40-fdc6-88b821d8ec74"
      },
      "execution_count": null,
      "outputs": [
        {
          "output_type": "stream",
          "name": "stderr",
          "text": [
            "No model was supplied, defaulted to sshleifer/distilbart-cnn-12-6 and revision a4f8f3e (https://huggingface.co/sshleifer/distilbart-cnn-12-6).\n",
            "Using a pipeline without specifying a model name and revision in production is not recommended.\n"
          ]
        },
        {
          "output_type": "stream",
          "name": "stdout",
          "text": [
            "Progress: 0.0\n",
            "Transcript: o atacante mario já cancelei a aula de amanhã e aí agora se segue seu horário que veio pra você é vinte e oito se não fizer duas aulas de moto né aí conclui moto dia trinta e um se faz uma aula de carro e dia quatro de setembro seu faz a última aula de carro\n"
          ]
        },
        {
          "output_type": "stream",
          "name": "stderr",
          "text": [
            "Your max_length is set to 142, but your input_length is only 108. Since this is a summarization task, where outputs shorter than the input are typically wanted, you might consider decreasing max_length manually, e.g. summarizer('...', max_length=54)\n"
          ]
        }
      ]
    },
    {
      "cell_type": "code",
      "source": [
        "print(summary)"
      ],
      "metadata": {
        "id": "xGVD2X9HnGJC",
        "colab": {
          "base_uri": "https://localhost:8080/"
        },
        "outputId": "c6592dab-0d74-4728-9c38-77a6bc2f44a4"
      },
      "execution_count": null,
      "outputs": [
        {
          "output_type": "stream",
          "name": "stdout",
          "text": [
            " Você é vinte e oito se não fizer duas aulas de moto né aí conclui moto dia trinta e um se faz uma aula de carro e dia quatro de setembro seu faz aula of amanhã .\n"
          ]
        }
      ]
    },
    {
      "cell_type": "code",
      "source": [],
      "metadata": {
        "id": "o2HPYGAaDMOR"
      },
      "execution_count": null,
      "outputs": []
    }
  ]
}